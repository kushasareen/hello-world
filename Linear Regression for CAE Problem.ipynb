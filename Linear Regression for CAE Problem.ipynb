{
  "nbformat": 4,
  "nbformat_minor": 0,
  "metadata": {
    "colab": {
      "name": "kusha.ipynb",
      "provenance": [],
      "include_colab_link": true
    },
    "kernelspec": {
      "name": "python3",
      "display_name": "Python 3"
    }
  },
  "cells": [
    {
      "cell_type": "markdown",
      "metadata": {
        "id": "view-in-github",
        "colab_type": "text"
      },
      "source": [
        "<a href=\"https://colab.research.google.com/github/kushasareen/hello-world/blob/master/Linear%20Regression%20for%20CAE%20Problem.ipynb\" target=\"_parent\"><img src=\"https://colab.research.google.com/assets/colab-badge.svg\" alt=\"Open In Colab\"/></a>"
      ]
    },
    {
      "cell_type": "code",
      "metadata": {
        "id": "tqy44uWzXa_C",
        "colab_type": "code",
        "colab": {}
      },
      "source": [
        "import numpy as np\n",
        "import pandas as pd\n",
        "import matplotlib.pyplot as plt\n",
        "from sklearn import tree\n",
        "from sklearn.tree import DecisionTreeClassifier"
      ],
      "execution_count": 0,
      "outputs": []
    },
    {
      "cell_type": "markdown",
      "metadata": {
        "id": "17G4U8bfXbvk",
        "colab_type": "text"
      },
      "source": [
        "We want to take a dataset of 1 person and do linear regression (15 dimentionality) on each feature vs. time."
      ]
    },
    {
      "cell_type": "code",
      "metadata": {
        "id": "2s3poad1fsdF",
        "colab_type": "code",
        "colab": {
          "base_uri": "https://localhost:8080/",
          "height": 334
        },
        "outputId": "dbdab1ff-e764-4952-9e3f-d2c252712f8a"
      },
      "source": [
        "# read in the data as pandas dataframes\n",
        "#.sort_values(0) sorts ascending\n",
        "fileName='https://raw.githubusercontent.com/prashansa/implementAI-CAEchallenge/master/CAE_dataset.csv'\n",
        "ds = pd.read_csv(fileName)\n",
        "#df[0:5]\n",
        "df = ds.iloc[:648]\n",
        "df.info()\n"
      ],
      "execution_count": 235,
      "outputs": [
        {
          "output_type": "stream",
          "text": [
            "<class 'pandas.core.frame.DataFrame'>\n",
            "RangeIndex: 648 entries, 0 to 647\n",
            "Data columns (total 13 columns):\n",
            "Unnamed: 0    648 non-null int64\n",
            "0             648 non-null float64\n",
            "1             648 non-null float64\n",
            "2             648 non-null float64\n",
            "3             648 non-null float64\n",
            "4             648 non-null float64\n",
            "5             648 non-null float64\n",
            "6             648 non-null float64\n",
            "7             648 non-null float64\n",
            "8             648 non-null float64\n",
            "9             648 non-null float64\n",
            "label         648 non-null int64\n",
            "Id            648 non-null int64\n",
            "dtypes: float64(10), int64(3)\n",
            "memory usage: 65.9 KB\n"
          ],
          "name": "stdout"
        }
      ]
    },
    {
      "cell_type": "code",
      "metadata": {
        "id": "50s6Fq2pgPg7",
        "colab_type": "code",
        "colab": {
          "base_uri": "https://localhost:8080/",
          "height": 287
        },
        "outputId": "eeb58516-86e0-4039-ef42-de660d65cbf5"
      },
      "source": [
        "X = np.array(df.iloc[:, 0:1])\n",
        "\n",
        "#the zeroth column has no name\n",
        "y = df['1'].to_numpy()\n",
        "\n",
        "plt.plot(X, y)\n"
      ],
      "execution_count": 236,
      "outputs": [
        {
          "output_type": "execute_result",
          "data": {
            "text/plain": [
              "[<matplotlib.lines.Line2D at 0x7f59ff062470>]"
            ]
          },
          "metadata": {
            "tags": []
          },
          "execution_count": 236
        },
        {
          "output_type": "display_data",
          "data": {
            "image/png": "[encoded data removed]",
            "text/plain": [
              "<Figure size 432x288 with 1 Axes>"
            ]
          },
          "metadata": {
            "tags": []
          }
        }
      ]
    },
    {
      "cell_type": "markdown",
      "metadata": {
        "id": "rH4LnP1IlKn4",
        "colab_type": "text"
      },
      "source": [
        "Polynomial Reression on model"
      ]
    },
    {
      "cell_type": "code",
      "metadata": {
        "id": "5VKTPfPJkYZU",
        "colab_type": "code",
        "colab": {
          "base_uri": "https://localhost:8080/",
          "height": 330
        },
        "outputId": "87cf566b-c45e-4bd6-8e22-7090b14afe7c"
      },
      "source": [
        "\n",
        "# Fitting Polynomial Regression to the dataset\n",
        "from sklearn.preprocessing import PolynomialFeatures\n",
        "poly_reg = PolynomialFeatures(degree=8)\n",
        "X_poly = poly_reg.fit_transform(X)\n",
        "pol_reg = LinearRegression()\n",
        "pol_reg.fit(X_poly, y)\n",
        "\n",
        "print(poly_reg)\n",
        "\n",
        "       \n",
        "# Visualizing the Polymonial Regression results\n",
        "def viz_polymonial():\n",
        "    plt.scatter(X, y, color='red')\n",
        "    plt.plot(X, pol_reg.predict(poly_reg.fit_transform(X)), color='blue')\n",
        "    plt.title('Linear Regression')\n",
        "    plt.xlabel('Time')\n",
        "    plt.ylabel('Feature')\n",
        "    plt.show()\n",
        "\n",
        "       \n",
        "viz_polymonial()"
      ],
      "execution_count": 257,
      "outputs": [
        {
          "output_type": "stream",
          "text": [
            "PolynomialFeatures(degree=8, include_bias=True, interaction_only=False,\n",
            "                   order='C')\n"
          ],
          "name": "stdout"
        },
        {
          "output_type": "display_data",
          "data": {
            "image/png": "[encoded data removed]",
            "text/plain": [
              "<Figure size 432x288 with 1 Axes>"
            ]
          },
          "metadata": {
            "tags": []
          }
        }
      ]
    },
    {
      "cell_type": "markdown",
      "metadata": {
        "id": "N4C5XDXPGpjw",
        "colab_type": "text"
      },
      "source": [
        "Now we hope to use this regression and extract a set of inputs for our neural network."
      ]
    },
    {
      "cell_type": "code",
      "metadata": {
        "id": "jf0HBSOeoQL6",
        "colab_type": "code",
        "colab": {
          "base_uri": "https://localhost:8080/",
          "height": 269
        },
        "outputId": "865de19f-5b32-406c-e560-4f7f085904a8"
      },
      "source": [
        "def nonlin(x,deriv=False):\n",
        "\tif(deriv==True):\n",
        "\t    return x*(1-x)\n",
        "\n",
        "\treturn 1/(1+np.exp(-x))\n",
        "\n",
        "\n",
        "max_value = 0\n",
        "min_value = 0\n",
        "highest_slope = 0\n",
        "arc_length = 0\n",
        "avg_value = 0\n",
        "mse = 0\n",
        "\n",
        "inputs = [max_value, min_value, highest_slope, arc_length, avg_value, mse]"
      ],
      "execution_count": 256,
      "outputs": [
        {
          "output_type": "display_data",
          "data": {
            "image/png": "[encoded data removed]",
            "text/plain": [
              "<Figure size 432x288 with 1 Axes>"
            ]
          },
          "metadata": {
            "tags": []
          }
        }
      ]
    },
    {
      "cell_type": "markdown",
      "metadata": {
        "id": "X60-QEaMY1ha",
        "colab_type": "text"
      },
      "source": [
        "We now add the code for a basic neural network."
      ]
    }
  ]
}